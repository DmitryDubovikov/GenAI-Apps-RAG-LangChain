{
  "nbformat": 4,
  "nbformat_minor": 0,
  "metadata": {
    "colab": {
      "provenance": []
    },
    "kernelspec": {
      "name": "python3",
      "display_name": "Python 3"
    },
    "language_info": {
      "name": "python"
    }
  },
  "cells": [
    {
      "cell_type": "code",
      "execution_count": 1,
      "metadata": {
        "id": "TyIZqIym-NGK"
      },
      "outputs": [],
      "source": [
        "%%capture\n",
        "\n",
        "!pip install --user \"ibm-watsonx-ai==1.0.10\"\n",
        "!pip install --user \"langchain==0.2.6\"\n",
        "!pip install --user \"langchain-ibm==0.1.8\"\n",
        "!pip install --user \"langchain-community==0.2.1\""
      ]
    },
    {
      "cell_type": "code",
      "source": [
        "!pip install langchain-ibm==0.3.6"
      ],
      "metadata": {
        "colab": {
          "base_uri": "https://localhost:8080/"
        },
        "id": "7osU1RwK-yiV",
        "outputId": "16a20c93-7709-48af-fb77-b44ffdec5c07"
      },
      "execution_count": 2,
      "outputs": [
        {
          "output_type": "stream",
          "name": "stdout",
          "text": [
            "Collecting langchain-ibm==0.3.6\n",
            "  Using cached langchain_ibm-0.3.6-py3-none-any.whl.metadata (5.2 kB)\n",
            "Collecting ibm-watsonx-ai<2.0.0,>=1.1.16 (from langchain-ibm==0.3.6)\n",
            "  Using cached ibm_watsonx_ai-1.2.9-py3-none-any.whl.metadata (6.5 kB)\n",
            "Collecting langchain-core<0.4,>=0.3.0 (from langchain-ibm==0.3.6)\n",
            "  Using cached langchain_core-0.3.40-py3-none-any.whl.metadata (5.9 kB)\n",
            "Requirement already satisfied: requests in /root/.local/lib/python3.11/site-packages (from ibm-watsonx-ai<2.0.0,>=1.1.16->langchain-ibm==0.3.6) (2.32.2)\n",
            "Requirement already satisfied: httpx<=0.28,>=0.27 in /usr/local/lib/python3.11/dist-packages (from ibm-watsonx-ai<2.0.0,>=1.1.16->langchain-ibm==0.3.6) (0.28.0)\n",
            "Requirement already satisfied: urllib3 in /usr/local/lib/python3.11/dist-packages (from ibm-watsonx-ai<2.0.0,>=1.1.16->langchain-ibm==0.3.6) (2.3.0)\n",
            "Requirement already satisfied: pandas<2.2.0,>=0.24.2 in /root/.local/lib/python3.11/site-packages (from ibm-watsonx-ai<2.0.0,>=1.1.16->langchain-ibm==0.3.6) (2.1.4)\n",
            "Requirement already satisfied: certifi in /usr/local/lib/python3.11/dist-packages (from ibm-watsonx-ai<2.0.0,>=1.1.16->langchain-ibm==0.3.6) (2025.1.31)\n",
            "Requirement already satisfied: lomond in /root/.local/lib/python3.11/site-packages (from ibm-watsonx-ai<2.0.0,>=1.1.16->langchain-ibm==0.3.6) (0.3.3)\n",
            "Requirement already satisfied: tabulate in /usr/local/lib/python3.11/dist-packages (from ibm-watsonx-ai<2.0.0,>=1.1.16->langchain-ibm==0.3.6) (0.9.0)\n",
            "Requirement already satisfied: packaging in /usr/local/lib/python3.11/dist-packages (from ibm-watsonx-ai<2.0.0,>=1.1.16->langchain-ibm==0.3.6) (24.2)\n",
            "Requirement already satisfied: ibm-cos-sdk<2.14.0,>=2.12.0 in /root/.local/lib/python3.11/site-packages (from ibm-watsonx-ai<2.0.0,>=1.1.16->langchain-ibm==0.3.6) (2.13.6)\n",
            "Requirement already satisfied: importlib-metadata in /usr/local/lib/python3.11/dist-packages (from ibm-watsonx-ai<2.0.0,>=1.1.16->langchain-ibm==0.3.6) (8.6.1)\n",
            "Requirement already satisfied: langsmith<0.4,>=0.1.125 in /root/.local/lib/python3.11/site-packages (from langchain-core<0.4,>=0.3.0->langchain-ibm==0.3.6) (0.1.147)\n",
            "Requirement already satisfied: tenacity!=8.4.0,<10.0.0,>=8.1.0 in /root/.local/lib/python3.11/site-packages (from langchain-core<0.4,>=0.3.0->langchain-ibm==0.3.6) (8.5.0)\n",
            "Requirement already satisfied: jsonpatch<2.0,>=1.33 in /usr/local/lib/python3.11/dist-packages (from langchain-core<0.4,>=0.3.0->langchain-ibm==0.3.6) (1.33)\n",
            "Requirement already satisfied: PyYAML>=5.3 in /usr/local/lib/python3.11/dist-packages (from langchain-core<0.4,>=0.3.0->langchain-ibm==0.3.6) (6.0.2)\n",
            "Requirement already satisfied: typing-extensions>=4.7 in /usr/local/lib/python3.11/dist-packages (from langchain-core<0.4,>=0.3.0->langchain-ibm==0.3.6) (4.12.2)\n",
            "Requirement already satisfied: pydantic<3.0.0,>=2.5.2 in /usr/local/lib/python3.11/dist-packages (from langchain-core<0.4,>=0.3.0->langchain-ibm==0.3.6) (2.10.6)\n",
            "Requirement already satisfied: anyio in /usr/local/lib/python3.11/dist-packages (from httpx<=0.28,>=0.27->ibm-watsonx-ai<2.0.0,>=1.1.16->langchain-ibm==0.3.6) (3.7.1)\n",
            "Requirement already satisfied: httpcore==1.* in /usr/local/lib/python3.11/dist-packages (from httpx<=0.28,>=0.27->ibm-watsonx-ai<2.0.0,>=1.1.16->langchain-ibm==0.3.6) (1.0.7)\n",
            "Requirement already satisfied: idna in /usr/local/lib/python3.11/dist-packages (from httpx<=0.28,>=0.27->ibm-watsonx-ai<2.0.0,>=1.1.16->langchain-ibm==0.3.6) (3.10)\n",
            "Requirement already satisfied: h11<0.15,>=0.13 in /usr/local/lib/python3.11/dist-packages (from httpcore==1.*->httpx<=0.28,>=0.27->ibm-watsonx-ai<2.0.0,>=1.1.16->langchain-ibm==0.3.6) (0.14.0)\n",
            "Requirement already satisfied: ibm-cos-sdk-core==2.13.6 in /root/.local/lib/python3.11/site-packages (from ibm-cos-sdk<2.14.0,>=2.12.0->ibm-watsonx-ai<2.0.0,>=1.1.16->langchain-ibm==0.3.6) (2.13.6)\n",
            "Requirement already satisfied: ibm-cos-sdk-s3transfer==2.13.6 in /root/.local/lib/python3.11/site-packages (from ibm-cos-sdk<2.14.0,>=2.12.0->ibm-watsonx-ai<2.0.0,>=1.1.16->langchain-ibm==0.3.6) (2.13.6)\n",
            "Requirement already satisfied: jmespath<=1.0.1,>=0.10.0 in /root/.local/lib/python3.11/site-packages (from ibm-cos-sdk<2.14.0,>=2.12.0->ibm-watsonx-ai<2.0.0,>=1.1.16->langchain-ibm==0.3.6) (1.0.1)\n",
            "Requirement already satisfied: python-dateutil<3.0.0,>=2.9.0 in /root/.local/lib/python3.11/site-packages (from ibm-cos-sdk-core==2.13.6->ibm-cos-sdk<2.14.0,>=2.12.0->ibm-watsonx-ai<2.0.0,>=1.1.16->langchain-ibm==0.3.6) (2.9.0.post0)\n",
            "Requirement already satisfied: jsonpointer>=1.9 in /usr/local/lib/python3.11/dist-packages (from jsonpatch<2.0,>=1.33->langchain-core<0.4,>=0.3.0->langchain-ibm==0.3.6) (3.0.0)\n",
            "Requirement already satisfied: orjson<4.0.0,>=3.9.14 in /usr/local/lib/python3.11/dist-packages (from langsmith<0.4,>=0.1.125->langchain-core<0.4,>=0.3.0->langchain-ibm==0.3.6) (3.10.15)\n",
            "Requirement already satisfied: requests-toolbelt<2.0.0,>=1.0.0 in /usr/local/lib/python3.11/dist-packages (from langsmith<0.4,>=0.1.125->langchain-core<0.4,>=0.3.0->langchain-ibm==0.3.6) (1.0.0)\n",
            "Requirement already satisfied: numpy<2,>=1.23.2 in /usr/local/lib/python3.11/dist-packages (from pandas<2.2.0,>=0.24.2->ibm-watsonx-ai<2.0.0,>=1.1.16->langchain-ibm==0.3.6) (1.26.4)\n",
            "Requirement already satisfied: pytz>=2020.1 in /usr/local/lib/python3.11/dist-packages (from pandas<2.2.0,>=0.24.2->ibm-watsonx-ai<2.0.0,>=1.1.16->langchain-ibm==0.3.6) (2025.1)\n",
            "Requirement already satisfied: tzdata>=2022.1 in /usr/local/lib/python3.11/dist-packages (from pandas<2.2.0,>=0.24.2->ibm-watsonx-ai<2.0.0,>=1.1.16->langchain-ibm==0.3.6) (2025.1)\n",
            "Requirement already satisfied: annotated-types>=0.6.0 in /usr/local/lib/python3.11/dist-packages (from pydantic<3.0.0,>=2.5.2->langchain-core<0.4,>=0.3.0->langchain-ibm==0.3.6) (0.7.0)\n",
            "Requirement already satisfied: pydantic-core==2.27.2 in /usr/local/lib/python3.11/dist-packages (from pydantic<3.0.0,>=2.5.2->langchain-core<0.4,>=0.3.0->langchain-ibm==0.3.6) (2.27.2)\n",
            "Requirement already satisfied: charset-normalizer<4,>=2 in /usr/local/lib/python3.11/dist-packages (from requests->ibm-watsonx-ai<2.0.0,>=1.1.16->langchain-ibm==0.3.6) (3.4.1)\n",
            "Requirement already satisfied: zipp>=3.20 in /usr/local/lib/python3.11/dist-packages (from importlib-metadata->ibm-watsonx-ai<2.0.0,>=1.1.16->langchain-ibm==0.3.6) (3.21.0)\n",
            "Requirement already satisfied: six>=1.10.0 in /usr/local/lib/python3.11/dist-packages (from lomond->ibm-watsonx-ai<2.0.0,>=1.1.16->langchain-ibm==0.3.6) (1.17.0)\n",
            "Requirement already satisfied: sniffio>=1.1 in /usr/local/lib/python3.11/dist-packages (from anyio->httpx<=0.28,>=0.27->ibm-watsonx-ai<2.0.0,>=1.1.16->langchain-ibm==0.3.6) (1.3.1)\n",
            "Using cached langchain_ibm-0.3.6-py3-none-any.whl (25 kB)\n",
            "Using cached ibm_watsonx_ai-1.2.9-py3-none-any.whl (1.1 MB)\n",
            "Using cached langchain_core-0.3.40-py3-none-any.whl (414 kB)\n",
            "Installing collected packages: langchain-core, ibm-watsonx-ai, langchain-ibm\n",
            "  Attempting uninstall: langchain-core\n",
            "    Found existing installation: langchain-core 0.2.43\n",
            "    Uninstalling langchain-core-0.2.43:\n",
            "      Successfully uninstalled langchain-core-0.2.43\n",
            "  Attempting uninstall: ibm-watsonx-ai\n",
            "    Found existing installation: ibm_watsonx_ai 1.0.10\n",
            "    Uninstalling ibm_watsonx_ai-1.0.10:\n",
            "      Successfully uninstalled ibm_watsonx_ai-1.0.10\n",
            "  Attempting uninstall: langchain-ibm\n",
            "    Found existing installation: langchain-ibm 0.1.8\n",
            "    Uninstalling langchain-ibm-0.1.8:\n",
            "      Successfully uninstalled langchain-ibm-0.1.8\n",
            "\u001b[31mERROR: pip's dependency resolver does not currently take into account all the packages that are installed. This behaviour is the source of the following dependency conflicts.\n",
            "langchain 0.2.6 requires langchain-core<0.3.0,>=0.2.10, but you have langchain-core 0.3.40 which is incompatible.\n",
            "langchain-community 0.2.1 requires langchain-core<0.3.0,>=0.2.0, but you have langchain-core 0.3.40 which is incompatible.\n",
            "langchain-text-splitters 0.2.4 requires langchain-core<0.3.0,>=0.2.38, but you have langchain-core 0.3.40 which is incompatible.\u001b[0m\u001b[31m\n",
            "\u001b[0mSuccessfully installed ibm-watsonx-ai-1.2.9 langchain-core-0.3.40 langchain-ibm-0.3.6\n"
          ]
        }
      ]
    },
    {
      "cell_type": "code",
      "source": [
        "import sys\n",
        "import site\n",
        "sys.path.append(site.getusersitepackages())\n",
        "\n",
        "# You can use this section to suppress warnings generated by your code:\n",
        "def warn(*args, **kwargs):\n",
        "    pass\n",
        "import warnings\n",
        "warnings.warn = warn\n",
        "warnings.filterwarnings('ignore')\n",
        "\n",
        "from ibm_watsonx_ai.foundation_models import ModelInference\n",
        "from ibm_watsonx_ai.metanames import GenTextParamsMetaNames as GenParams\n",
        "from langchain_core.prompts import PromptTemplate\n",
        "from langchain.chains import LLMChain\n",
        "from langchain_community.document_loaders import TextLoader\n",
        "from langchain_ibm import WatsonxLLM"
      ],
      "metadata": {
        "id": "nW3l8ecD-1Wg"
      },
      "execution_count": 3,
      "outputs": []
    },
    {
      "cell_type": "code",
      "source": [
        "def llm_model(model_id):\n",
        "    parameters = {\n",
        "        GenParams.MAX_NEW_TOKENS: 256,  # this controls the maximum number of tokens in the generated output\n",
        "        GenParams.TEMPERATURE: 0.5, # this randomness or creativity of the model's responses\n",
        "    }\n",
        "\n",
        "    credentials = {\n",
        "        \"url\": \"https://us-south.ml.cloud.ibm.com\"\n",
        "    }\n",
        "\n",
        "    project_id = \"skills-network\"\n",
        "\n",
        "    model = ModelInference(\n",
        "        model_id=model_id,\n",
        "        params=parameters,\n",
        "        credentials=credentials,\n",
        "        project_id=project_id\n",
        "    )\n",
        "\n",
        "    llm = WatsonxLLM(watsonx_model = model)\n",
        "    return llm"
      ],
      "metadata": {
        "id": "oAcm2e-K_6yu"
      },
      "execution_count": 4,
      "outputs": []
    },
    {
      "cell_type": "code",
      "source": [
        "llama_llm = llm_model('meta-llama/llama-3-3-70b-instruct')"
      ],
      "metadata": {
        "colab": {
          "base_uri": "https://localhost:8080/",
          "height": 341
        },
        "id": "9j9DNnbi_9mB",
        "outputId": "e629932c-6ff7-4b29-ae3c-6450b4537d17"
      },
      "execution_count": 5,
      "outputs": [
        {
          "output_type": "stream",
          "name": "stderr",
          "text": [
            "WARNING:ibm_watsonx_ai.wml_client_error:'`api_key` for IAM token is not provided in credentials for the client'\n"
          ]
        },
        {
          "output_type": "error",
          "ename": "WMLClientError",
          "evalue": "'`api_key` for IAM token is not provided in credentials for the client'",
          "traceback": [
            "\u001b[0;31m---------------------------------------------------------------------------\u001b[0m",
            "\u001b[0;31mWMLClientError\u001b[0m                            Traceback (most recent call last)",
            "\u001b[0;32m<ipython-input-5-c6e7c1a47c58>\u001b[0m in \u001b[0;36m<cell line: 0>\u001b[0;34m()\u001b[0m\n\u001b[0;32m----> 1\u001b[0;31m \u001b[0mllama_llm\u001b[0m \u001b[0;34m=\u001b[0m \u001b[0mllm_model\u001b[0m\u001b[0;34m(\u001b[0m\u001b[0;34m'meta-llama/llama-3-3-70b-instruct'\u001b[0m\u001b[0;34m)\u001b[0m\u001b[0;34m\u001b[0m\u001b[0;34m\u001b[0m\u001b[0m\n\u001b[0m",
            "\u001b[0;32m<ipython-input-4-ff07dda662c4>\u001b[0m in \u001b[0;36mllm_model\u001b[0;34m(model_id)\u001b[0m\n\u001b[1;32m     11\u001b[0m     \u001b[0mproject_id\u001b[0m \u001b[0;34m=\u001b[0m \u001b[0;34m\"skills-network\"\u001b[0m\u001b[0;34m\u001b[0m\u001b[0;34m\u001b[0m\u001b[0m\n\u001b[1;32m     12\u001b[0m \u001b[0;34m\u001b[0m\u001b[0m\n\u001b[0;32m---> 13\u001b[0;31m     model = ModelInference(\n\u001b[0m\u001b[1;32m     14\u001b[0m         \u001b[0mmodel_id\u001b[0m\u001b[0;34m=\u001b[0m\u001b[0mmodel_id\u001b[0m\u001b[0;34m,\u001b[0m\u001b[0;34m\u001b[0m\u001b[0;34m\u001b[0m\u001b[0m\n\u001b[1;32m     15\u001b[0m         \u001b[0mparams\u001b[0m\u001b[0;34m=\u001b[0m\u001b[0mparameters\u001b[0m\u001b[0;34m,\u001b[0m\u001b[0;34m\u001b[0m\u001b[0;34m\u001b[0m\u001b[0m\n",
            "\u001b[0;32m/usr/local/lib/python3.11/dist-packages/ibm_watsonx_ai/foundation_models/inference/model_inference.py\u001b[0m in \u001b[0;36m__init__\u001b[0;34m(self, model_id, deployment_id, params, credentials, project_id, space_id, verify, api_client, validate, persistent_connection)\u001b[0m\n\u001b[1;32m    165\u001b[0m             \u001b[0;32mfrom\u001b[0m \u001b[0mibm_watsonx_ai\u001b[0m \u001b[0;32mimport\u001b[0m \u001b[0mAPIClient\u001b[0m\u001b[0;34m\u001b[0m\u001b[0;34m\u001b[0m\u001b[0m\n\u001b[1;32m    166\u001b[0m \u001b[0;34m\u001b[0m\u001b[0m\n\u001b[0;32m--> 167\u001b[0;31m             \u001b[0mself\u001b[0m\u001b[0;34m.\u001b[0m\u001b[0mset_api_client\u001b[0m\u001b[0;34m(\u001b[0m\u001b[0mAPIClient\u001b[0m\u001b[0;34m(\u001b[0m\u001b[0mcredentials\u001b[0m\u001b[0;34m,\u001b[0m \u001b[0mverify\u001b[0m\u001b[0;34m=\u001b[0m\u001b[0mverify\u001b[0m\u001b[0;34m)\u001b[0m\u001b[0;34m)\u001b[0m\u001b[0;34m\u001b[0m\u001b[0;34m\u001b[0m\u001b[0m\n\u001b[0m\u001b[1;32m    168\u001b[0m         \u001b[0;32melif\u001b[0m \u001b[0mapi_client\u001b[0m\u001b[0;34m:\u001b[0m\u001b[0;34m\u001b[0m\u001b[0;34m\u001b[0m\u001b[0m\n\u001b[1;32m    169\u001b[0m             \u001b[0mself\u001b[0m\u001b[0;34m.\u001b[0m\u001b[0mset_api_client\u001b[0m\u001b[0;34m(\u001b[0m\u001b[0mapi_client\u001b[0m\u001b[0;34m)\u001b[0m\u001b[0;34m\u001b[0m\u001b[0;34m\u001b[0m\u001b[0m\n",
            "\u001b[0;32m/usr/local/lib/python3.11/dist-packages/ibm_watsonx_ai/client.py\u001b[0m in \u001b[0;36m__init__\u001b[0;34m(self, credentials, project_id, space_id, verify, **kwargs)\u001b[0m\n\u001b[1;32m    254\u001b[0m \u001b[0;34m\u001b[0m\u001b[0m\n\u001b[1;32m    255\u001b[0m                 \u001b[0;32mif\u001b[0m \u001b[0;32mnot\u001b[0m \u001b[0mself\u001b[0m\u001b[0;34m.\u001b[0m\u001b[0m_is_IAM\u001b[0m\u001b[0;34m(\u001b[0m\u001b[0;34m)\u001b[0m\u001b[0;34m:\u001b[0m\u001b[0;34m\u001b[0m\u001b[0;34m\u001b[0m\u001b[0m\n\u001b[0;32m--> 256\u001b[0;31m                     raise WMLClientError(\n\u001b[0m\u001b[1;32m    257\u001b[0m                         \u001b[0mMessages\u001b[0m\u001b[0;34m.\u001b[0m\u001b[0mget_message\u001b[0m\u001b[0;34m(\u001b[0m\u001b[0mmessage_id\u001b[0m\u001b[0;34m=\u001b[0m\u001b[0;34m\"apikey_not_provided\"\u001b[0m\u001b[0;34m)\u001b[0m\u001b[0;34m\u001b[0m\u001b[0;34m\u001b[0m\u001b[0m\n\u001b[1;32m    258\u001b[0m                     )\n",
            "\u001b[0;31mWMLClientError\u001b[0m: '`api_key` for IAM token is not provided in credentials for the client'"
          ]
        }
      ]
    },
    {
      "cell_type": "code",
      "source": [
        "llama_llm.invoke(\"How are you?\")"
      ],
      "metadata": {
        "colab": {
          "base_uri": "https://localhost:8080/",
          "height": 141
        },
        "id": "xaIR25b8_-sr",
        "outputId": "eda76c50-bb85-4840-b2ae-56fef4b2e056"
      },
      "execution_count": 6,
      "outputs": [
        {
          "output_type": "error",
          "ename": "NameError",
          "evalue": "name 'llama_llm' is not defined",
          "traceback": [
            "\u001b[0;31m---------------------------------------------------------------------------\u001b[0m",
            "\u001b[0;31mNameError\u001b[0m                                 Traceback (most recent call last)",
            "\u001b[0;32m<ipython-input-6-1e4bf5182a47>\u001b[0m in \u001b[0;36m<cell line: 0>\u001b[0;34m()\u001b[0m\n\u001b[0;32m----> 1\u001b[0;31m \u001b[0mllama_llm\u001b[0m\u001b[0;34m.\u001b[0m\u001b[0minvoke\u001b[0m\u001b[0;34m(\u001b[0m\u001b[0;34m\"How are you?\"\u001b[0m\u001b[0;34m)\u001b[0m\u001b[0;34m\u001b[0m\u001b[0;34m\u001b[0m\u001b[0m\n\u001b[0m",
            "\u001b[0;31mNameError\u001b[0m: name 'llama_llm' is not defined"
          ]
        }
      ]
    },
    {
      "cell_type": "code",
      "source": [
        "!wget \"https://cf-courses-data.s3.us.cloud-object-storage.appdomain.cloud/d_ahNwb1L2duIxBR6RD63Q/state-of-the-union.txt\""
      ],
      "metadata": {
        "colab": {
          "base_uri": "https://localhost:8080/"
        },
        "id": "zUWE7zJfANFg",
        "outputId": "62537e56-ebcb-4572-f37f-125d4943bc32"
      },
      "execution_count": 7,
      "outputs": [
        {
          "output_type": "stream",
          "name": "stdout",
          "text": [
            "--2025-03-02 13:17:11--  https://cf-courses-data.s3.us.cloud-object-storage.appdomain.cloud/d_ahNwb1L2duIxBR6RD63Q/state-of-the-union.txt\n",
            "Resolving cf-courses-data.s3.us.cloud-object-storage.appdomain.cloud (cf-courses-data.s3.us.cloud-object-storage.appdomain.cloud)... 169.45.118.108\n",
            "Connecting to cf-courses-data.s3.us.cloud-object-storage.appdomain.cloud (cf-courses-data.s3.us.cloud-object-storage.appdomain.cloud)|169.45.118.108|:443... connected.\n",
            "HTTP request sent, awaiting response... 200 OK\n",
            "Length: 39027 (38K) [text/plain]\n",
            "Saving to: ‘state-of-the-union.txt’\n",
            "\n",
            "state-of-the-union. 100%[===================>]  38.11K  --.-KB/s    in 0.02s   \n",
            "\n",
            "2025-03-02 13:17:11 (2.00 MB/s) - ‘state-of-the-union.txt’ saved [39027/39027]\n",
            "\n"
          ]
        }
      ]
    },
    {
      "cell_type": "code",
      "source": [
        "loader = TextLoader(\"state-of-the-union.txt\")\n",
        "data = loader.load()\n",
        "content = data[0].page_content\n",
        "content"
      ],
      "metadata": {
        "id": "t4QgzirpAQo2"
      },
      "execution_count": null,
      "outputs": []
    },
    {
      "cell_type": "code",
      "source": [
        "template = \"\"\"According to the document content here\n",
        "            {content},\n",
        "            answer this question\n",
        "            {question}.\n",
        "            Do not try to make up the answer.\n",
        "\n",
        "            YOUR RESPONSE:\n",
        "\"\"\"\n",
        "\n",
        "prompt_template = PromptTemplate(template=template, input_variables=['content', 'question'])\n",
        "prompt_template"
      ],
      "metadata": {
        "colab": {
          "base_uri": "https://localhost:8080/"
        },
        "id": "uvjrbXPbAWr1",
        "outputId": "374e1142-c164-4a55-ad02-c2ba00879d8d"
      },
      "execution_count": 8,
      "outputs": [
        {
          "output_type": "execute_result",
          "data": {
            "text/plain": [
              "PromptTemplate(input_variables=['content', 'question'], input_types={}, partial_variables={}, template='According to the document content here \\n            {content},\\n            answer this question \\n            {question}.\\n            Do not try to make up the answer.\\n                \\n            YOUR RESPONSE:\\n')"
            ]
          },
          "metadata": {},
          "execution_count": 8
        }
      ]
    },
    {
      "cell_type": "code",
      "source": [
        "mixtral_llm = llm_model('mistralai/mixtral-8x7b-instruct-v01')"
      ],
      "metadata": {
        "colab": {
          "base_uri": "https://localhost:8080/",
          "height": 341
        },
        "id": "F-7j9T-SAYPe",
        "outputId": "30918a5e-0712-4c16-e6ac-8d2edc469373"
      },
      "execution_count": 9,
      "outputs": [
        {
          "output_type": "stream",
          "name": "stderr",
          "text": [
            "WARNING:ibm_watsonx_ai.wml_client_error:'`api_key` for IAM token is not provided in credentials for the client'\n"
          ]
        },
        {
          "output_type": "error",
          "ename": "WMLClientError",
          "evalue": "'`api_key` for IAM token is not provided in credentials for the client'",
          "traceback": [
            "\u001b[0;31m---------------------------------------------------------------------------\u001b[0m",
            "\u001b[0;31mWMLClientError\u001b[0m                            Traceback (most recent call last)",
            "\u001b[0;32m<ipython-input-9-aa6c1e76e8a4>\u001b[0m in \u001b[0;36m<cell line: 0>\u001b[0;34m()\u001b[0m\n\u001b[0;32m----> 1\u001b[0;31m \u001b[0mmixtral_llm\u001b[0m \u001b[0;34m=\u001b[0m \u001b[0mllm_model\u001b[0m\u001b[0;34m(\u001b[0m\u001b[0;34m'mistralai/mixtral-8x7b-instruct-v01'\u001b[0m\u001b[0;34m)\u001b[0m\u001b[0;34m\u001b[0m\u001b[0;34m\u001b[0m\u001b[0m\n\u001b[0m",
            "\u001b[0;32m<ipython-input-4-ff07dda662c4>\u001b[0m in \u001b[0;36mllm_model\u001b[0;34m(model_id)\u001b[0m\n\u001b[1;32m     11\u001b[0m     \u001b[0mproject_id\u001b[0m \u001b[0;34m=\u001b[0m \u001b[0;34m\"skills-network\"\u001b[0m\u001b[0;34m\u001b[0m\u001b[0;34m\u001b[0m\u001b[0m\n\u001b[1;32m     12\u001b[0m \u001b[0;34m\u001b[0m\u001b[0m\n\u001b[0;32m---> 13\u001b[0;31m     model = ModelInference(\n\u001b[0m\u001b[1;32m     14\u001b[0m         \u001b[0mmodel_id\u001b[0m\u001b[0;34m=\u001b[0m\u001b[0mmodel_id\u001b[0m\u001b[0;34m,\u001b[0m\u001b[0;34m\u001b[0m\u001b[0;34m\u001b[0m\u001b[0m\n\u001b[1;32m     15\u001b[0m         \u001b[0mparams\u001b[0m\u001b[0;34m=\u001b[0m\u001b[0mparameters\u001b[0m\u001b[0;34m,\u001b[0m\u001b[0;34m\u001b[0m\u001b[0;34m\u001b[0m\u001b[0m\n",
            "\u001b[0;32m/usr/local/lib/python3.11/dist-packages/ibm_watsonx_ai/foundation_models/inference/model_inference.py\u001b[0m in \u001b[0;36m__init__\u001b[0;34m(self, model_id, deployment_id, params, credentials, project_id, space_id, verify, api_client, validate, persistent_connection)\u001b[0m\n\u001b[1;32m    165\u001b[0m             \u001b[0;32mfrom\u001b[0m \u001b[0mibm_watsonx_ai\u001b[0m \u001b[0;32mimport\u001b[0m \u001b[0mAPIClient\u001b[0m\u001b[0;34m\u001b[0m\u001b[0;34m\u001b[0m\u001b[0m\n\u001b[1;32m    166\u001b[0m \u001b[0;34m\u001b[0m\u001b[0m\n\u001b[0;32m--> 167\u001b[0;31m             \u001b[0mself\u001b[0m\u001b[0;34m.\u001b[0m\u001b[0mset_api_client\u001b[0m\u001b[0;34m(\u001b[0m\u001b[0mAPIClient\u001b[0m\u001b[0;34m(\u001b[0m\u001b[0mcredentials\u001b[0m\u001b[0;34m,\u001b[0m \u001b[0mverify\u001b[0m\u001b[0;34m=\u001b[0m\u001b[0mverify\u001b[0m\u001b[0;34m)\u001b[0m\u001b[0;34m)\u001b[0m\u001b[0;34m\u001b[0m\u001b[0;34m\u001b[0m\u001b[0m\n\u001b[0m\u001b[1;32m    168\u001b[0m         \u001b[0;32melif\u001b[0m \u001b[0mapi_client\u001b[0m\u001b[0;34m:\u001b[0m\u001b[0;34m\u001b[0m\u001b[0;34m\u001b[0m\u001b[0m\n\u001b[1;32m    169\u001b[0m             \u001b[0mself\u001b[0m\u001b[0;34m.\u001b[0m\u001b[0mset_api_client\u001b[0m\u001b[0;34m(\u001b[0m\u001b[0mapi_client\u001b[0m\u001b[0;34m)\u001b[0m\u001b[0;34m\u001b[0m\u001b[0;34m\u001b[0m\u001b[0m\n",
            "\u001b[0;32m/usr/local/lib/python3.11/dist-packages/ibm_watsonx_ai/client.py\u001b[0m in \u001b[0;36m__init__\u001b[0;34m(self, credentials, project_id, space_id, verify, **kwargs)\u001b[0m\n\u001b[1;32m    254\u001b[0m \u001b[0;34m\u001b[0m\u001b[0m\n\u001b[1;32m    255\u001b[0m                 \u001b[0;32mif\u001b[0m \u001b[0;32mnot\u001b[0m \u001b[0mself\u001b[0m\u001b[0;34m.\u001b[0m\u001b[0m_is_IAM\u001b[0m\u001b[0;34m(\u001b[0m\u001b[0;34m)\u001b[0m\u001b[0;34m:\u001b[0m\u001b[0;34m\u001b[0m\u001b[0;34m\u001b[0m\u001b[0m\n\u001b[0;32m--> 256\u001b[0;31m                     raise WMLClientError(\n\u001b[0m\u001b[1;32m    257\u001b[0m                         \u001b[0mMessages\u001b[0m\u001b[0;34m.\u001b[0m\u001b[0mget_message\u001b[0m\u001b[0;34m(\u001b[0m\u001b[0mmessage_id\u001b[0m\u001b[0;34m=\u001b[0m\u001b[0;34m\"apikey_not_provided\"\u001b[0m\u001b[0;34m)\u001b[0m\u001b[0;34m\u001b[0m\u001b[0;34m\u001b[0m\u001b[0m\n\u001b[1;32m    258\u001b[0m                     )\n",
            "\u001b[0;31mWMLClientError\u001b[0m: '`api_key` for IAM token is not provided in credentials for the client'"
          ]
        }
      ]
    },
    {
      "cell_type": "code",
      "source": [
        "query_chain = LLMChain(llm=mixtral_llm, prompt=prompt_template)"
      ],
      "metadata": {
        "id": "5kJYkACMAacq"
      },
      "execution_count": null,
      "outputs": []
    },
    {
      "cell_type": "code",
      "source": [
        "query = \"It is in which year of our nation?\"\n",
        "response = query_chain.invoke(input={'content': content, 'question': query})\n",
        "print(response['text'])"
      ],
      "metadata": {
        "id": "F7NgOu8RAdHm"
      },
      "execution_count": null,
      "outputs": []
    },
    {
      "cell_type": "code",
      "source": [
        "query_chain = LLMChain(llm=llama_llm, prompt=prompt_template)\n",
        "query_chain"
      ],
      "metadata": {
        "id": "Vz1ZYBf0Ag2b"
      },
      "execution_count": null,
      "outputs": []
    },
    {
      "cell_type": "code",
      "source": [
        "query = \"It is in which year of our nation?\"\n",
        "response = query_chain.invoke(input={'content': content, 'question': query})\n",
        "print(response['text'])"
      ],
      "metadata": {
        "id": "bt64vd4aAk47"
      },
      "execution_count": null,
      "outputs": []
    },
    {
      "cell_type": "code",
      "source": [
        "granite_llm = llm_model('ibm/granite-3-8b-instruct')\n",
        "query_chain = LLMChain(llm=granite_llm, prompt=prompt_template)\n",
        "query = \"It is in which year of our nation?\"\n",
        "response = query_chain.invoke(input={'content': content, 'question': query})\n",
        "print(response['text'])"
      ],
      "metadata": {
        "colab": {
          "base_uri": "https://localhost:8080/",
          "height": 411
        },
        "id": "IpQILifFAluB",
        "outputId": "fabc46af-34eb-4b27-ac73-46704fd20bb3"
      },
      "execution_count": 10,
      "outputs": [
        {
          "output_type": "stream",
          "name": "stderr",
          "text": [
            "WARNING:ibm_watsonx_ai.wml_client_error:'`api_key` for IAM token is not provided in credentials for the client'\n"
          ]
        },
        {
          "output_type": "error",
          "ename": "WMLClientError",
          "evalue": "'`api_key` for IAM token is not provided in credentials for the client'",
          "traceback": [
            "\u001b[0;31m---------------------------------------------------------------------------\u001b[0m",
            "\u001b[0;31mWMLClientError\u001b[0m                            Traceback (most recent call last)",
            "\u001b[0;32m<ipython-input-10-1a184edff27a>\u001b[0m in \u001b[0;36m<cell line: 0>\u001b[0;34m()\u001b[0m\n\u001b[0;32m----> 1\u001b[0;31m \u001b[0mgranite_llm\u001b[0m \u001b[0;34m=\u001b[0m \u001b[0mllm_model\u001b[0m\u001b[0;34m(\u001b[0m\u001b[0;34m'ibm/granite-3-8b-instruct'\u001b[0m\u001b[0;34m)\u001b[0m\u001b[0;34m\u001b[0m\u001b[0;34m\u001b[0m\u001b[0m\n\u001b[0m\u001b[1;32m      2\u001b[0m \u001b[0mquery_chain\u001b[0m \u001b[0;34m=\u001b[0m \u001b[0mLLMChain\u001b[0m\u001b[0;34m(\u001b[0m\u001b[0mllm\u001b[0m\u001b[0;34m=\u001b[0m\u001b[0mgranite_llm\u001b[0m\u001b[0;34m,\u001b[0m \u001b[0mprompt\u001b[0m\u001b[0;34m=\u001b[0m\u001b[0mprompt_template\u001b[0m\u001b[0;34m)\u001b[0m\u001b[0;34m\u001b[0m\u001b[0;34m\u001b[0m\u001b[0m\n\u001b[1;32m      3\u001b[0m \u001b[0mquery\u001b[0m \u001b[0;34m=\u001b[0m \u001b[0;34m\"It is in which year of our nation?\"\u001b[0m\u001b[0;34m\u001b[0m\u001b[0;34m\u001b[0m\u001b[0m\n\u001b[1;32m      4\u001b[0m \u001b[0mresponse\u001b[0m \u001b[0;34m=\u001b[0m \u001b[0mquery_chain\u001b[0m\u001b[0;34m.\u001b[0m\u001b[0minvoke\u001b[0m\u001b[0;34m(\u001b[0m\u001b[0minput\u001b[0m\u001b[0;34m=\u001b[0m\u001b[0;34m{\u001b[0m\u001b[0;34m'content'\u001b[0m\u001b[0;34m:\u001b[0m \u001b[0mcontent\u001b[0m\u001b[0;34m,\u001b[0m \u001b[0;34m'question'\u001b[0m\u001b[0;34m:\u001b[0m \u001b[0mquery\u001b[0m\u001b[0;34m}\u001b[0m\u001b[0;34m)\u001b[0m\u001b[0;34m\u001b[0m\u001b[0;34m\u001b[0m\u001b[0m\n\u001b[1;32m      5\u001b[0m \u001b[0mprint\u001b[0m\u001b[0;34m(\u001b[0m\u001b[0mresponse\u001b[0m\u001b[0;34m[\u001b[0m\u001b[0;34m'text'\u001b[0m\u001b[0;34m]\u001b[0m\u001b[0;34m)\u001b[0m\u001b[0;34m\u001b[0m\u001b[0;34m\u001b[0m\u001b[0m\n",
            "\u001b[0;32m<ipython-input-4-ff07dda662c4>\u001b[0m in \u001b[0;36mllm_model\u001b[0;34m(model_id)\u001b[0m\n\u001b[1;32m     11\u001b[0m     \u001b[0mproject_id\u001b[0m \u001b[0;34m=\u001b[0m \u001b[0;34m\"skills-network\"\u001b[0m\u001b[0;34m\u001b[0m\u001b[0;34m\u001b[0m\u001b[0m\n\u001b[1;32m     12\u001b[0m \u001b[0;34m\u001b[0m\u001b[0m\n\u001b[0;32m---> 13\u001b[0;31m     model = ModelInference(\n\u001b[0m\u001b[1;32m     14\u001b[0m         \u001b[0mmodel_id\u001b[0m\u001b[0;34m=\u001b[0m\u001b[0mmodel_id\u001b[0m\u001b[0;34m,\u001b[0m\u001b[0;34m\u001b[0m\u001b[0;34m\u001b[0m\u001b[0m\n\u001b[1;32m     15\u001b[0m         \u001b[0mparams\u001b[0m\u001b[0;34m=\u001b[0m\u001b[0mparameters\u001b[0m\u001b[0;34m,\u001b[0m\u001b[0;34m\u001b[0m\u001b[0;34m\u001b[0m\u001b[0m\n",
            "\u001b[0;32m/usr/local/lib/python3.11/dist-packages/ibm_watsonx_ai/foundation_models/inference/model_inference.py\u001b[0m in \u001b[0;36m__init__\u001b[0;34m(self, model_id, deployment_id, params, credentials, project_id, space_id, verify, api_client, validate, persistent_connection)\u001b[0m\n\u001b[1;32m    165\u001b[0m             \u001b[0;32mfrom\u001b[0m \u001b[0mibm_watsonx_ai\u001b[0m \u001b[0;32mimport\u001b[0m \u001b[0mAPIClient\u001b[0m\u001b[0;34m\u001b[0m\u001b[0;34m\u001b[0m\u001b[0m\n\u001b[1;32m    166\u001b[0m \u001b[0;34m\u001b[0m\u001b[0m\n\u001b[0;32m--> 167\u001b[0;31m             \u001b[0mself\u001b[0m\u001b[0;34m.\u001b[0m\u001b[0mset_api_client\u001b[0m\u001b[0;34m(\u001b[0m\u001b[0mAPIClient\u001b[0m\u001b[0;34m(\u001b[0m\u001b[0mcredentials\u001b[0m\u001b[0;34m,\u001b[0m \u001b[0mverify\u001b[0m\u001b[0;34m=\u001b[0m\u001b[0mverify\u001b[0m\u001b[0;34m)\u001b[0m\u001b[0;34m)\u001b[0m\u001b[0;34m\u001b[0m\u001b[0;34m\u001b[0m\u001b[0m\n\u001b[0m\u001b[1;32m    168\u001b[0m         \u001b[0;32melif\u001b[0m \u001b[0mapi_client\u001b[0m\u001b[0;34m:\u001b[0m\u001b[0;34m\u001b[0m\u001b[0;34m\u001b[0m\u001b[0m\n\u001b[1;32m    169\u001b[0m             \u001b[0mself\u001b[0m\u001b[0;34m.\u001b[0m\u001b[0mset_api_client\u001b[0m\u001b[0;34m(\u001b[0m\u001b[0mapi_client\u001b[0m\u001b[0;34m)\u001b[0m\u001b[0;34m\u001b[0m\u001b[0;34m\u001b[0m\u001b[0m\n",
            "\u001b[0;32m/usr/local/lib/python3.11/dist-packages/ibm_watsonx_ai/client.py\u001b[0m in \u001b[0;36m__init__\u001b[0;34m(self, credentials, project_id, space_id, verify, **kwargs)\u001b[0m\n\u001b[1;32m    254\u001b[0m \u001b[0;34m\u001b[0m\u001b[0m\n\u001b[1;32m    255\u001b[0m                 \u001b[0;32mif\u001b[0m \u001b[0;32mnot\u001b[0m \u001b[0mself\u001b[0m\u001b[0;34m.\u001b[0m\u001b[0m_is_IAM\u001b[0m\u001b[0;34m(\u001b[0m\u001b[0;34m)\u001b[0m\u001b[0;34m:\u001b[0m\u001b[0;34m\u001b[0m\u001b[0;34m\u001b[0m\u001b[0m\n\u001b[0;32m--> 256\u001b[0;31m                     raise WMLClientError(\n\u001b[0m\u001b[1;32m    257\u001b[0m                         \u001b[0mMessages\u001b[0m\u001b[0;34m.\u001b[0m\u001b[0mget_message\u001b[0m\u001b[0;34m(\u001b[0m\u001b[0mmessage_id\u001b[0m\u001b[0;34m=\u001b[0m\u001b[0;34m\"apikey_not_provided\"\u001b[0m\u001b[0;34m)\u001b[0m\u001b[0;34m\u001b[0m\u001b[0;34m\u001b[0m\u001b[0m\n\u001b[1;32m    258\u001b[0m                     )\n",
            "\u001b[0;31mWMLClientError\u001b[0m: '`api_key` for IAM token is not provided in credentials for the client'"
          ]
        }
      ]
    },
    {
      "cell_type": "code",
      "source": [],
      "metadata": {
        "id": "hO8hzz17AtNF"
      },
      "execution_count": null,
      "outputs": []
    }
  ]
}